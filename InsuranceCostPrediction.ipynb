{
 "cells": [
  {
   "cell_type": "markdown",
   "metadata": {
    "_cell_guid": "b1076dfc-b9ad-4769-8c92-a6c4dae69d19",
    "_uuid": "8f2839f25d086af736a60e9eeb907d3b93b6e0e5"
   },
   "source": [
    "# Insurance cost prediction using linear regression\n",
    "\n",
    "Make a submisson here: https://jovian.ai/learn/deep-learning-with-pytorch-zero-to-gans/assignment/assignment-2-train-your-first-model\n",
    "\n",
    "In this assignment we're going to use information like a person's age, sex, BMI, no. of children and smoking habit to predict the price of yearly medical bills. This kind of model is useful for insurance companies to determine the yearly insurance premium for a person. The dataset for this problem is taken from [Kaggle](https://www.kaggle.com/mirichoi0218/insurance).\n",
    "\n",
    "\n",
    "We will create a model with the following steps:\n",
    "1. Download and explore the dataset\n",
    "2. Prepare the dataset for training\n",
    "3. Create a linear regression model\n",
    "4. Train the model to fit the data\n",
    "5. Make predictions using the trained model\n",
    "\n",
    "\n",
    "This assignment builds upon the concepts from the first 2 lessons. It will help to review these Jupyter notebooks:\n",
    "- PyTorch basics: https://jovian.ai/aakashns/01-pytorch-basics\n",
    "- Linear Regression: https://jovian.ai/aakashns/02-linear-regression\n",
    "- Logistic Regression: https://jovian.ai/aakashns/03-logistic-regression\n",
    "- Linear regression (minimal): https://jovian.ai/aakashns/housing-linear-minimal\n",
    "- Logistic regression (minimal): https://jovian.ai/aakashns/mnist-logistic-minimal\n",
    "\n",
    "As you go through this notebook, you will find a **???** in certain places. Your job is to replace the **???** with appropriate code or values, to ensure that the notebook runs properly end-to-end . In some cases, you'll be required to choose some hyperparameters (learning rate, batch size etc.). Try to experiment with the hypeparameters to get the lowest loss.\n"
   ]
  },
  {
   "cell_type": "code",
   "execution_count": 1,
   "metadata": {},
   "outputs": [],
   "source": [
    "# Uncomment and run the appropriate command for your operating system, if required\n",
    "\n",
    "# Linux / Binder\n",
    "# !pip install numpy matplotlib pandas torch==1.7.0+cpu torchvision==0.8.1+cpu torchaudio==0.7.0 -f https://download.pytorch.org/whl/torch_stable.html\n",
    "\n",
    "# Windows\n",
    "# !pip install numpy matplotlib pandas torch==1.7.0+cpu torchvision==0.8.1+cpu torchaudio==0.7.0 -f https://download.pytorch.org/whl/torch_stable.html\n",
    "\n",
    "# MacOS\n",
    "# !pip install numpy matplotlib pandas torch torchvision torchaudio"
   ]
  },
  {
   "cell_type": "code",
   "execution_count": 2,
   "metadata": {},
   "outputs": [],
   "source": [
    "import torch\n",
    "import jovian\n",
    "import torchvision\n",
    "import torch.nn as nn\n",
    "import pandas as pd\n",
    "import matplotlib.pyplot as plt\n",
    "import torch.nn.functional as F\n",
    "from torchvision.datasets.utils import download_url\n",
    "from torch.utils.data import DataLoader, TensorDataset, random_split"
   ]
  },
  {
   "cell_type": "code",
   "execution_count": 3,
   "metadata": {},
   "outputs": [],
   "source": [
    "project_name='02-insurance-linear-regression' # will be used by jovian.commit"
   ]
  },
  {
   "cell_type": "markdown",
   "metadata": {},
   "source": [
    "## Step 1: Download and explore the data\n",
    "\n",
    "Let us begin by downloading the data. We'll use the `download_url` function from PyTorch to get the data as a CSV (comma-separated values) file. "
   ]
  },
  {
   "cell_type": "code",
   "execution_count": 4,
   "metadata": {
    "_cell_guid": "79c7e3d0-c299-4dcb-8224-4455121ee9b0",
    "_uuid": "d629ff2d2480ee46fbb7e2d37f6b5fab8052498a"
   },
   "outputs": [
    {
     "name": "stdout",
     "output_type": "stream",
     "text": [
      "Downloading https://gist.githubusercontent.com/BirajCoder/5f068dfe759c1ea6bdfce9535acdb72d/raw/c84d84e3c80f93be67f6c069cbdc0195ec36acbd/insurance.csv to ./insurance.csv\n"
     ]
    },
    {
     "data": {
      "application/vnd.jupyter.widget-view+json": {
       "model_id": "9341254c97c34870b4492f76a5223649",
       "version_major": 2,
       "version_minor": 0
      },
      "text/plain": [
       "  0%|          | 0/54288 [00:00<?, ?it/s]"
      ]
     },
     "metadata": {},
     "output_type": "display_data"
    }
   ],
   "source": [
    "DATASET_URL = \"https://gist.github.com/BirajCoder/5f068dfe759c1ea6bdfce9535acdb72d/raw/c84d84e3c80f93be67f6c069cbdc0195ec36acbd/insurance.csv\"\n",
    "DATA_FILENAME = \"insurance.csv\"\n",
    "download_url(DATASET_URL, '.')"
   ]
  },
  {
   "cell_type": "markdown",
   "metadata": {},
   "source": [
    "To load the dataset into memory, we'll use the `read_csv` function from the `pandas` library. The data will be loaded as a Pandas dataframe. See this short tutorial to learn more: https://data36.com/pandas-tutorial-1-basics-reading-data-files-dataframes-data-selection/"
   ]
  },
  {
   "cell_type": "code",
   "execution_count": 7,
   "metadata": {},
   "outputs": [
    {
     "data": {
      "text/html": [
       "<div>\n",
       "<style scoped>\n",
       "    .dataframe tbody tr th:only-of-type {\n",
       "        vertical-align: middle;\n",
       "    }\n",
       "\n",
       "    .dataframe tbody tr th {\n",
       "        vertical-align: top;\n",
       "    }\n",
       "\n",
       "    .dataframe thead th {\n",
       "        text-align: right;\n",
       "    }\n",
       "</style>\n",
       "<table border=\"1\" class=\"dataframe\">\n",
       "  <thead>\n",
       "    <tr style=\"text-align: right;\">\n",
       "      <th></th>\n",
       "      <th>age</th>\n",
       "      <th>sex</th>\n",
       "      <th>bmi</th>\n",
       "      <th>children</th>\n",
       "      <th>smoker</th>\n",
       "      <th>region</th>\n",
       "      <th>charges</th>\n",
       "    </tr>\n",
       "  </thead>\n",
       "  <tbody>\n",
       "    <tr>\n",
       "      <th>0</th>\n",
       "      <td>19</td>\n",
       "      <td>female</td>\n",
       "      <td>27.900</td>\n",
       "      <td>0</td>\n",
       "      <td>yes</td>\n",
       "      <td>southwest</td>\n",
       "      <td>16884.92400</td>\n",
       "    </tr>\n",
       "    <tr>\n",
       "      <th>1</th>\n",
       "      <td>18</td>\n",
       "      <td>male</td>\n",
       "      <td>33.770</td>\n",
       "      <td>1</td>\n",
       "      <td>no</td>\n",
       "      <td>southeast</td>\n",
       "      <td>1725.55230</td>\n",
       "    </tr>\n",
       "    <tr>\n",
       "      <th>2</th>\n",
       "      <td>28</td>\n",
       "      <td>male</td>\n",
       "      <td>33.000</td>\n",
       "      <td>3</td>\n",
       "      <td>no</td>\n",
       "      <td>southeast</td>\n",
       "      <td>4449.46200</td>\n",
       "    </tr>\n",
       "    <tr>\n",
       "      <th>3</th>\n",
       "      <td>33</td>\n",
       "      <td>male</td>\n",
       "      <td>22.705</td>\n",
       "      <td>0</td>\n",
       "      <td>no</td>\n",
       "      <td>northwest</td>\n",
       "      <td>21984.47061</td>\n",
       "    </tr>\n",
       "    <tr>\n",
       "      <th>4</th>\n",
       "      <td>32</td>\n",
       "      <td>male</td>\n",
       "      <td>28.880</td>\n",
       "      <td>0</td>\n",
       "      <td>no</td>\n",
       "      <td>northwest</td>\n",
       "      <td>3866.85520</td>\n",
       "    </tr>\n",
       "  </tbody>\n",
       "</table>\n",
       "</div>"
      ],
      "text/plain": [
       "   age     sex     bmi  children smoker     region      charges\n",
       "0   19  female  27.900         0    yes  southwest  16884.92400\n",
       "1   18    male  33.770         1     no  southeast   1725.55230\n",
       "2   28    male  33.000         3     no  southeast   4449.46200\n",
       "3   33    male  22.705         0     no  northwest  21984.47061\n",
       "4   32    male  28.880         0     no  northwest   3866.85520"
      ]
     },
     "execution_count": 7,
     "metadata": {},
     "output_type": "execute_result"
    }
   ],
   "source": [
    "dataframe_raw = pd.read_csv(DATA_FILENAME)\n",
    "dataframe_raw.head()"
   ]
  },
  {
   "cell_type": "markdown",
   "metadata": {},
   "source": [
    "We're going to do a slight customization of the data, so that you every participant receives a slightly different version of the dataset. Fill in your name below as a string (enter at least 5 characters)"
   ]
  },
  {
   "cell_type": "code",
   "execution_count": 8,
   "metadata": {},
   "outputs": [],
   "source": [
    "your_name = \"Vidushi\" # at least 5 characters"
   ]
  },
  {
   "cell_type": "markdown",
   "metadata": {},
   "source": [
    "The `customize_dataset` function will customize the dataset slightly using your name as a source of random numbers."
   ]
  },
  {
   "cell_type": "code",
   "execution_count": 9,
   "metadata": {},
   "outputs": [],
   "source": [
    "def customize_dataset(dataframe_raw, rand_str):\n",
    "    dataframe = dataframe_raw.copy(deep=True)\n",
    "    # drop some rows\n",
    "    dataframe = dataframe.sample(int(0.95*len(dataframe)), random_state=int(ord(rand_str[0])))\n",
    "    # scale input\n",
    "    dataframe.bmi = dataframe.bmi * ord(rand_str[1])/100.\n",
    "    # scale target\n",
    "    dataframe.charges = dataframe.charges * ord(rand_str[2])/100.\n",
    "    # drop column\n",
    "    if ord(rand_str[3]) % 2 == 1:\n",
    "        dataframe = dataframe.drop(['region'], axis=1)\n",
    "    return dataframe"
   ]
  },
  {
   "cell_type": "code",
   "execution_count": 10,
   "metadata": {},
   "outputs": [
    {
     "data": {
      "text/html": [
       "<div>\n",
       "<style scoped>\n",
       "    .dataframe tbody tr th:only-of-type {\n",
       "        vertical-align: middle;\n",
       "    }\n",
       "\n",
       "    .dataframe tbody tr th {\n",
       "        vertical-align: top;\n",
       "    }\n",
       "\n",
       "    .dataframe thead th {\n",
       "        text-align: right;\n",
       "    }\n",
       "</style>\n",
       "<table border=\"1\" class=\"dataframe\">\n",
       "  <thead>\n",
       "    <tr style=\"text-align: right;\">\n",
       "      <th></th>\n",
       "      <th>age</th>\n",
       "      <th>sex</th>\n",
       "      <th>bmi</th>\n",
       "      <th>children</th>\n",
       "      <th>smoker</th>\n",
       "      <th>charges</th>\n",
       "    </tr>\n",
       "  </thead>\n",
       "  <tbody>\n",
       "    <tr>\n",
       "      <th>805</th>\n",
       "      <td>45</td>\n",
       "      <td>female</td>\n",
       "      <td>37.60575</td>\n",
       "      <td>0</td>\n",
       "      <td>no</td>\n",
       "      <td>7731.85785</td>\n",
       "    </tr>\n",
       "    <tr>\n",
       "      <th>1173</th>\n",
       "      <td>38</td>\n",
       "      <td>male</td>\n",
       "      <td>30.72300</td>\n",
       "      <td>2</td>\n",
       "      <td>no</td>\n",
       "      <td>6457.84340</td>\n",
       "    </tr>\n",
       "    <tr>\n",
       "      <th>0</th>\n",
       "      <td>19</td>\n",
       "      <td>female</td>\n",
       "      <td>29.29500</td>\n",
       "      <td>0</td>\n",
       "      <td>yes</td>\n",
       "      <td>16884.92400</td>\n",
       "    </tr>\n",
       "    <tr>\n",
       "      <th>681</th>\n",
       "      <td>19</td>\n",
       "      <td>male</td>\n",
       "      <td>21.31500</td>\n",
       "      <td>0</td>\n",
       "      <td>no</td>\n",
       "      <td>1242.26000</td>\n",
       "    </tr>\n",
       "    <tr>\n",
       "      <th>215</th>\n",
       "      <td>41</td>\n",
       "      <td>female</td>\n",
       "      <td>38.95500</td>\n",
       "      <td>2</td>\n",
       "      <td>no</td>\n",
       "      <td>7371.77200</td>\n",
       "    </tr>\n",
       "  </tbody>\n",
       "</table>\n",
       "</div>"
      ],
      "text/plain": [
       "      age     sex       bmi  children smoker      charges\n",
       "805    45  female  37.60575         0     no   7731.85785\n",
       "1173   38    male  30.72300         2     no   6457.84340\n",
       "0      19  female  29.29500         0    yes  16884.92400\n",
       "681    19    male  21.31500         0     no   1242.26000\n",
       "215    41  female  38.95500         2     no   7371.77200"
      ]
     },
     "execution_count": 10,
     "metadata": {},
     "output_type": "execute_result"
    }
   ],
   "source": [
    "dataframe = customize_dataset(dataframe_raw, your_name)\n",
    "dataframe.head()"
   ]
  },
  {
   "cell_type": "markdown",
   "metadata": {},
   "source": [
    "Let us answer some basic questions about the dataset. \n",
    "\n",
    "\n",
    "**Q1: How many rows does the dataset have?**"
   ]
  },
  {
   "cell_type": "code",
   "execution_count": 11,
   "metadata": {},
   "outputs": [
    {
     "name": "stdout",
     "output_type": "stream",
     "text": [
      "1271\n"
     ]
    }
   ],
   "source": [
    "num_rows = dataframe.shape[0]\n",
    "print(num_rows)"
   ]
  },
  {
   "cell_type": "markdown",
   "metadata": {},
   "source": [
    "**Q2: How many columns doe the dataset have**"
   ]
  },
  {
   "cell_type": "code",
   "execution_count": 12,
   "metadata": {},
   "outputs": [
    {
     "name": "stdout",
     "output_type": "stream",
     "text": [
      "6\n"
     ]
    }
   ],
   "source": [
    "num_cols = dataframe.shape[1]\n",
    "print(num_cols)"
   ]
  },
  {
   "cell_type": "markdown",
   "metadata": {},
   "source": [
    "**Q3: What are the column titles of the input variables?**"
   ]
  },
  {
   "cell_type": "code",
   "execution_count": 43,
   "metadata": {},
   "outputs": [
    {
     "data": {
      "text/plain": [
       "['age', 'sex', 'bmi', 'children', 'smoker']"
      ]
     },
     "execution_count": 43,
     "metadata": {},
     "output_type": "execute_result"
    }
   ],
   "source": [
    "input_cols = [\"age\",\"sex\",\"bmi\",\"children\",\"smoker\"]\n",
    "input_cols"
   ]
  },
  {
   "cell_type": "markdown",
   "metadata": {},
   "source": [
    "**Q4: Which of the input columns are non-numeric or categorial variables ?**\n",
    "\n",
    "Hint: `sex` is one of them. List the columns that are not numbers."
   ]
  },
  {
   "cell_type": "code",
   "execution_count": 44,
   "metadata": {},
   "outputs": [
    {
     "data": {
      "text/plain": [
       "['sex', 'smoker']"
      ]
     },
     "execution_count": 44,
     "metadata": {},
     "output_type": "execute_result"
    }
   ],
   "source": [
    "categorical_cols =[\"sex\",\"smoker\"]\n",
    "categorical_cols"
   ]
  },
  {
   "cell_type": "markdown",
   "metadata": {},
   "source": [
    "**Q5: What are the column titles of output/target variable(s)?**"
   ]
  },
  {
   "cell_type": "code",
   "execution_count": 45,
   "metadata": {},
   "outputs": [
    {
     "data": {
      "text/plain": [
       "['charges']"
      ]
     },
     "execution_count": 45,
     "metadata": {},
     "output_type": "execute_result"
    }
   ],
   "source": [
    "output_cols = [\"charges\"]\n",
    "output_cols"
   ]
  },
  {
   "cell_type": "markdown",
   "metadata": {},
   "source": [
    "**Q: (Optional) What is the minimum, maximum and average value of the `charges` column? Can you show the distribution of values in a graph?**\n",
    "Use this data visualization cheatsheet for referece: https://jovian.ai/aakashns/dataviz-cheatsheet"
   ]
  },
  {
   "cell_type": "code",
   "execution_count": 48,
   "metadata": {},
   "outputs": [
    {
     "data": {
      "text/plain": [
       "(charges    1121.8739\n",
       " dtype: float64,\n",
       " charges    63770.42801\n",
       " dtype: float64,\n",
       " charges    13276.262433\n",
       " dtype: float64,\n",
       " array([[<AxesSubplot:title={'center':'charges'}>]], dtype=object))"
      ]
     },
     "execution_count": 48,
     "metadata": {},
     "output_type": "execute_result"
    },
    {
     "data": {
      "image/png": "[encoded data removed]",
      "text/plain": [
       "<Figure size 432x288 with 1 Axes>"
      ]
     },
     "metadata": {
      "needs_background": "light"
     },
     "output_type": "display_data"
    }
   ],
   "source": [
    "# Write your answer here\n",
    "output=dataframe[output_cols]\n",
    "output.min(),output.max(),output.mean(),output.hist(\"charges\")"
   ]
  },
  {
   "cell_type": "markdown",
   "metadata": {},
   "source": [
    "Remember to commit your notebook to Jovian after every step, so that you don't lose your work."
   ]
  },
  {
   "cell_type": "code",
   "execution_count": 49,
   "metadata": {},
   "outputs": [],
   "source": [
    "!pip install jovian --upgrade -q"
   ]
  },
  {
   "cell_type": "code",
   "execution_count": 50,
   "metadata": {},
   "outputs": [],
   "source": [
    "import jovian"
   ]
  },
  {
   "cell_type": "code",
   "execution_count": 51,
   "metadata": {},
   "outputs": [
    {
     "data": {
      "application/javascript": [
       "window.require && require([\"base/js/namespace\"],function(Jupyter){Jupyter.notebook.save_checkpoint()})"
      ],
      "text/plain": [
       "<IPython.core.display.Javascript object>"
      ]
     },
     "metadata": {},
     "output_type": "display_data"
    },
    {
     "name": "stdout",
     "output_type": "stream",
     "text": [
      "[jovian] Updating notebook \"vidushi-omar123/02-insurance-linear-regression\" on https://jovian.com\u001b[0m\n",
      "[jovian] Committed successfully! https://jovian.com/vidushi-omar123/02-insurance-linear-regression\u001b[0m\n"
     ]
    },
    {
     "data": {
      "text/plain": [
       "'https://jovian.com/vidushi-omar123/02-insurance-linear-regression'"
      ]
     },
     "execution_count": 51,
     "metadata": {},
     "output_type": "execute_result"
    }
   ],
   "source": [
    "jovian.commit()"
   ]
  },
  {
   "cell_type": "markdown",
   "metadata": {},
   "source": [
    "## Step 2: Prepare the dataset for training\n",
    "\n",
    "We need to convert the data from the Pandas dataframe into a PyTorch tensors for training. To do this, the first step is to convert it numpy arrays. If you've filled out `input_cols`, `categorial_cols` and `output_cols` correctly, this following function will perform the conversion to numpy arrays."
   ]
  },
  {
   "cell_type": "code",
   "execution_count": 52,
   "metadata": {},
   "outputs": [],
   "source": [
    "def dataframe_to_arrays(dataframe):\n",
    "    # Make a copy of the original dataframe\n",
    "    dataframe1 = dataframe.copy(deep=True)\n",
    "    # Convert non-numeric categorical columns to numbers\n",
    "    for col in categorical_cols:\n",
    "        dataframe1[col] = dataframe1[col].astype('category').cat.codes\n",
    "    # Extract input & outupts as numpy arrays\n",
    "    inputs_array = dataframe1[input_cols].to_numpy()\n",
    "    targets_array = dataframe1[output_cols].to_numpy()\n",
    "    return inputs_array, targets_array"
   ]
  },
  {
   "cell_type": "markdown",
   "metadata": {},
   "source": [
    "Read through the [Pandas documentation](https://pandas.pydata.org/pandas-docs/stable/user_guide/categorical.html) to understand how we're converting categorical variables into numbers."
   ]
  },
  {
   "cell_type": "code",
   "execution_count": 53,
   "metadata": {},
   "outputs": [
    {
     "data": {
      "text/plain": [
       "(array([[45.     ,  0.     , 37.60575,  0.     ,  0.     ],\n",
       "        [38.     ,  1.     , 30.723  ,  2.     ,  0.     ],\n",
       "        [19.     ,  0.     , 29.295  ,  0.     ,  1.     ],\n",
       "        ...,\n",
       "        [33.     ,  0.     , 35.175  ,  0.     ,  1.     ],\n",
       "        [53.     ,  1.     , 30.324  ,  0.     ,  0.     ],\n",
       "        [50.     ,  0.     , 48.3945 ,  1.     ,  0.     ]]),\n",
       " array([[ 7731.85785],\n",
       "        [ 6457.8434 ],\n",
       "        [16884.924  ],\n",
       "        ...,\n",
       "        [37079.372  ],\n",
       "        [ 9869.8102 ],\n",
       "        [ 9549.5651 ]]))"
      ]
     },
     "execution_count": 53,
     "metadata": {},
     "output_type": "execute_result"
    }
   ],
   "source": [
    "inputs_array, targets_array = dataframe_to_arrays(dataframe)\n",
    "inputs_array, targets_array"
   ]
  },
  {
   "cell_type": "markdown",
   "metadata": {},
   "source": [
    "**Q6: Convert the numpy arrays `inputs_array` and `targets_array` into PyTorch tensors. Make sure that the data type is `torch.float32`.**"
   ]
  },
  {
   "cell_type": "code",
   "execution_count": 54,
   "metadata": {},
   "outputs": [],
   "source": [
    "inputs = torch.tensor(inputs_array, dtype=torch.float32)\n",
    "targets = torch.tensor(targets_array, dtype=torch.float32)"
   ]
  },
  {
   "cell_type": "code",
   "execution_count": 55,
   "metadata": {},
   "outputs": [
    {
     "data": {
      "text/plain": [
       "(torch.float32, torch.float32)"
      ]
     },
     "execution_count": 55,
     "metadata": {},
     "output_type": "execute_result"
    }
   ],
   "source": [
    "inputs.dtype, targets.dtype"
   ]
  },
  {
   "cell_type": "markdown",
   "metadata": {},
   "source": [
    "Next, we need to create PyTorch datasets & data loaders for training & validation. We'll start by creating a `TensorDataset`."
   ]
  },
  {
   "cell_type": "code",
   "execution_count": 56,
   "metadata": {},
   "outputs": [],
   "source": [
    "dataset = TensorDataset(inputs, targets)"
   ]
  },
  {
   "cell_type": "markdown",
   "metadata": {},
   "source": [
    "**Q7: Pick a number between `0.1` and `0.2` to determine the fraction of data that will be used for creating the validation set. Then use `random_split` to create training & validation datasets.**"
   ]
  },
  {
   "cell_type": "code",
   "execution_count": 57,
   "metadata": {},
   "outputs": [],
   "source": [
    "val_percent = 0.14 # between 0.1 and 0.2\n",
    "val_size = int(num_rows * val_percent)\n",
    "train_size = num_rows - val_size\n",
    "\n",
    "\n",
    "train_ds, val_ds = torch.utils.data.random_split(dataset,[train_size,val_size]) # Use the random_split function to split dataset into 2 parts of the desired length"
   ]
  },
  {
   "cell_type": "markdown",
   "metadata": {},
   "source": [
    "Finally, we can create data loaders for training & validation.\n",
    "\n",
    "**Q8: Pick a batch size for the data loader.**"
   ]
  },
  {
   "cell_type": "code",
   "execution_count": 58,
   "metadata": {},
   "outputs": [],
   "source": [
    "batch_size = 100"
   ]
  },
  {
   "cell_type": "code",
   "execution_count": 59,
   "metadata": {},
   "outputs": [],
   "source": [
    "train_loader = DataLoader(train_ds, batch_size, shuffle=True)\n",
    "val_loader = DataLoader(val_ds, batch_size)"
   ]
  },
  {
   "cell_type": "markdown",
   "metadata": {},
   "source": [
    "Let's look at a batch of data to verify everything is working fine so far."
   ]
  },
  {
   "cell_type": "code",
   "execution_count": 60,
   "metadata": {},
   "outputs": [
    {
     "name": "stdout",
     "output_type": "stream",
     "text": [
      "inputs: tensor([[45.0000,  1.0000, 24.0397,  2.0000,  1.0000],\n",
      "        [22.0000,  1.0000, 33.7155,  0.0000,  0.0000],\n",
      "        [45.0000,  0.0000, 29.2215,  2.0000,  0.0000],\n",
      "        [64.0000,  0.0000, 41.6850,  0.0000,  0.0000],\n",
      "        [63.0000,  0.0000, 26.3340,  0.0000,  0.0000],\n",
      "        [19.0000,  0.0000, 32.1195,  2.0000,  0.0000],\n",
      "        [54.0000,  0.0000, 22.5435,  3.0000,  0.0000],\n",
      "        [39.0000,  1.0000, 27.5310,  1.0000,  0.0000],\n",
      "        [30.0000,  0.0000, 34.9965,  1.0000,  0.0000],\n",
      "        [47.0000,  1.0000, 26.6805,  1.0000,  1.0000],\n",
      "        [40.0000,  1.0000, 43.2915,  1.0000,  0.0000],\n",
      "        [58.0000,  0.0000, 33.4162,  2.0000,  0.0000],\n",
      "        [28.0000,  1.0000, 39.9630,  0.0000,  0.0000],\n",
      "        [23.0000,  0.0000, 34.4190,  2.0000,  1.0000],\n",
      "        [47.0000,  0.0000, 25.3050,  1.0000,  0.0000],\n",
      "        [61.0000,  1.0000, 35.2118,  0.0000,  0.0000],\n",
      "        [51.0000,  1.0000, 31.5315,  1.0000,  0.0000],\n",
      "        [21.0000,  1.0000, 32.8177,  0.0000,  0.0000],\n",
      "        [21.0000,  0.0000, 36.6135,  0.0000,  0.0000],\n",
      "        [47.0000,  0.0000, 38.4615,  1.0000,  1.0000],\n",
      "        [27.0000,  1.0000, 27.3315,  0.0000,  0.0000],\n",
      "        [19.0000,  1.0000, 27.3315,  1.0000,  1.0000],\n",
      "        [20.0000,  0.0000, 33.0330,  0.0000,  0.0000],\n",
      "        [51.0000,  0.0000, 27.0900,  1.0000,  0.0000],\n",
      "        [27.0000,  0.0000, 24.3705,  1.0000,  0.0000],\n",
      "        [18.0000,  1.0000, 41.0970,  0.0000,  0.0000],\n",
      "        [24.0000,  0.0000, 35.0122,  0.0000,  0.0000],\n",
      "        [63.0000,  1.0000, 38.6032,  0.0000,  0.0000],\n",
      "        [19.0000,  1.0000, 36.5400,  0.0000,  1.0000],\n",
      "        [33.0000,  0.0000, 19.4250,  1.0000,  0.0000],\n",
      "        [18.0000,  1.0000, 22.6432,  0.0000,  1.0000],\n",
      "        [61.0000,  0.0000, 38.2043,  1.0000,  1.0000],\n",
      "        [39.0000,  0.0000, 25.4363,  5.0000,  0.0000],\n",
      "        [62.0000,  1.0000, 31.5210,  0.0000,  0.0000],\n",
      "        [55.0000,  1.0000, 32.2192,  0.0000,  1.0000],\n",
      "        [28.0000,  0.0000, 18.1545,  0.0000,  0.0000],\n",
      "        [38.0000,  0.0000, 30.3765,  1.0000,  0.0000],\n",
      "        [44.0000,  1.0000, 36.0360,  1.0000,  0.0000],\n",
      "        [32.0000,  0.0000, 25.8300,  0.0000,  1.0000],\n",
      "        [52.0000,  1.0000, 31.7100,  1.0000,  0.0000],\n",
      "        [60.0000,  0.0000, 34.0725,  0.0000,  1.0000],\n",
      "        [41.0000,  0.0000, 22.8428,  1.0000,  0.0000],\n",
      "        [21.0000,  0.0000, 17.6558,  1.0000,  0.0000],\n",
      "        [49.0000,  1.0000, 30.1350,  1.0000,  0.0000],\n",
      "        [48.0000,  1.0000, 25.6410,  0.0000,  1.0000],\n",
      "        [41.0000,  1.0000, 25.1370,  1.0000,  0.0000],\n",
      "        [42.0000,  1.0000, 27.6308,  1.0000,  0.0000],\n",
      "        [52.0000,  0.0000, 32.4188,  0.0000,  0.0000],\n",
      "        [27.0000,  1.0000, 35.3430,  0.0000,  0.0000],\n",
      "        [64.0000,  1.0000, 36.2250,  0.0000,  0.0000],\n",
      "        [51.0000,  1.0000, 25.6357,  4.0000,  0.0000],\n",
      "        [51.0000,  0.0000, 39.6165,  1.0000,  0.0000],\n",
      "        [36.0000,  0.0000, 29.1270,  0.0000,  0.0000],\n",
      "        [58.0000,  1.0000, 36.6082,  0.0000,  0.0000],\n",
      "        [49.0000,  0.0000, 28.5285,  0.0000,  0.0000],\n",
      "        [32.0000,  0.0000, 34.8128,  3.0000,  0.0000],\n",
      "        [37.0000,  0.0000, 40.3095,  0.0000,  1.0000],\n",
      "        [20.0000,  1.0000, 29.3265,  0.0000,  0.0000],\n",
      "        [54.0000,  1.0000, 41.5800,  1.0000,  0.0000],\n",
      "        [19.0000,  0.0000, 30.0300,  5.0000,  0.0000],\n",
      "        [56.0000,  1.0000, 42.3150,  0.0000,  0.0000],\n",
      "        [61.0000,  1.0000, 24.8377,  0.0000,  0.0000],\n",
      "        [24.0000,  1.0000, 35.3115,  4.0000,  0.0000],\n",
      "        [41.0000,  0.0000, 37.8840,  1.0000,  0.0000],\n",
      "        [21.0000,  1.0000, 38.6925,  0.0000,  0.0000],\n",
      "        [33.0000,  1.0000, 28.8277,  2.0000,  0.0000],\n",
      "        [42.0000,  1.0000, 26.1030,  0.0000,  0.0000],\n",
      "        [40.0000,  0.0000, 24.5385,  3.0000,  0.0000],\n",
      "        [62.0000,  1.0000, 28.0298,  0.0000,  1.0000],\n",
      "        [19.0000,  0.0000, 34.7655,  0.0000,  1.0000],\n",
      "        [22.0000,  0.0000, 31.9200,  0.0000,  0.0000],\n",
      "        [24.0000,  1.0000, 37.6530,  0.0000,  0.0000],\n",
      "        [48.0000,  1.0000, 29.4000,  1.0000,  1.0000],\n",
      "        [54.0000,  0.0000, 29.0273,  1.0000,  0.0000],\n",
      "        [54.0000,  1.0000, 32.3400,  1.0000,  1.0000],\n",
      "        [33.0000,  1.0000, 31.7625,  0.0000,  0.0000],\n",
      "        [49.0000,  0.0000, 28.4550,  1.0000,  0.0000],\n",
      "        [44.0000,  1.0000, 41.4960,  0.0000,  0.0000],\n",
      "        [35.0000,  0.0000, 39.9997,  2.0000,  0.0000],\n",
      "        [36.0000,  0.0000, 23.7300,  2.0000,  1.0000],\n",
      "        [40.0000,  1.0000, 27.6308,  1.0000,  0.0000],\n",
      "        [20.0000,  0.0000, 32.1195,  0.0000,  0.0000],\n",
      "        [51.0000,  0.0000, 38.2043,  3.0000,  0.0000],\n",
      "        [49.0000,  1.0000, 31.3215,  1.0000,  0.0000],\n",
      "        [25.0000,  1.0000, 47.8170,  2.0000,  1.0000],\n",
      "        [25.0000,  1.0000, 34.9965,  2.0000,  1.0000],\n",
      "        [44.0000,  0.0000, 46.0845,  2.0000,  1.0000],\n",
      "        [52.0000,  1.0000, 34.4137,  3.0000,  0.0000],\n",
      "        [64.0000,  1.0000, 27.7305,  0.0000,  0.0000],\n",
      "        [32.0000,  1.0000, 29.5260,  4.0000,  1.0000],\n",
      "        [19.0000,  1.0000, 25.8300,  1.0000,  0.0000],\n",
      "        [64.0000,  0.0000, 41.2965,  0.0000,  0.0000],\n",
      "        [25.0000,  1.0000, 25.3365,  0.0000,  1.0000],\n",
      "        [34.0000,  0.0000, 33.5160,  1.0000,  1.0000],\n",
      "        [59.0000,  1.0000, 26.7330,  0.0000,  0.0000],\n",
      "        [20.0000,  1.0000, 34.9965,  0.0000,  0.0000],\n",
      "        [21.0000,  0.0000, 18.2700,  1.0000,  0.0000],\n",
      "        [53.0000,  1.0000, 32.0197,  0.0000,  0.0000],\n",
      "        [52.0000,  1.0000, 38.5350,  0.0000,  0.0000],\n",
      "        [20.0000,  1.0000, 41.3700,  2.0000,  1.0000]])\n",
      "targets: tensor([[21098.5547],\n",
      "        [ 2055.3250],\n",
      "        [ 8515.7588],\n",
      "        [14319.0312],\n",
      "        [14254.6084],\n",
      "        [24059.6797],\n",
      "        [12475.3516],\n",
      "        [ 6123.5688],\n",
      "        [ 4151.0288],\n",
      "        [21978.6777],\n",
      "        [ 6610.1099],\n",
      "        [13607.3691],\n",
      "        [ 2689.4954],\n",
      "        [36021.0117],\n",
      "        [26236.5801],\n",
      "        [13143.3369],\n",
      "        [ 9377.9043],\n",
      "        [ 1909.5275],\n",
      "        [ 2020.5522],\n",
      "        [42969.8516],\n",
      "        [ 3070.8086],\n",
      "        [16450.8945],\n",
      "        [ 1877.9294],\n",
      "        [ 9861.0254],\n",
      "        [ 3561.8889],\n",
      "        [12890.0576],\n",
      "        [ 2855.4375],\n",
      "        [13981.8506],\n",
      "        [34779.6133],\n",
      "        [ 4766.0220],\n",
      "        [13747.8721],\n",
      "        [48517.5625],\n",
      "        [ 8965.7959],\n",
      "        [13352.0996],\n",
      "        [42303.6914],\n",
      "        [ 3732.6250],\n",
      "        [ 5974.3848],\n",
      "        [ 7147.4727],\n",
      "        [17496.3066],\n",
      "        [ 9724.5303],\n",
      "        [45008.9570],\n",
      "        [13725.4717],\n",
      "        [ 3167.4558],\n",
      "        [ 8703.4561],\n",
      "        [21223.6758],\n",
      "        [ 6858.4795],\n",
      "        [ 6940.9097],\n",
      "        [23045.5664],\n",
      "        [ 2498.4143],\n",
      "        [13822.8027],\n",
      "        [11520.0996],\n",
      "        [ 9877.6074],\n",
      "        [ 5469.0068],\n",
      "        [11944.5947],\n",
      "        [ 8601.3291],\n",
      "        [ 6128.7974],\n",
      "        [40419.0195],\n",
      "        [ 1967.0227],\n",
      "        [10450.5518],\n",
      "        [ 4687.7969],\n",
      "        [10602.3848],\n",
      "        [13129.6035],\n",
      "        [17128.4258],\n",
      "        [ 6781.3540],\n",
      "        [ 1534.3044],\n",
      "        [ 5261.4692],\n",
      "        [ 5966.8872],\n",
      "        [ 8252.2842],\n",
      "        [28101.3340],\n",
      "        [34439.8555],\n",
      "        [ 2741.9480],\n",
      "        [ 1986.9333],\n",
      "        [23568.2715],\n",
      "        [11305.9346],\n",
      "        [41999.5195],\n",
      "        [ 3704.3545],\n",
      "        [26140.3594],\n",
      "        [ 6948.7007],\n",
      "        [24915.0469],\n",
      "        [18608.2617],\n",
      "        [ 6389.3779],\n",
      "        [ 2459.7202],\n",
      "        [11436.7383],\n",
      "        [ 9288.0264],\n",
      "        [42112.2344],\n",
      "        [36124.5742],\n",
      "        [46200.9844],\n",
      "        [11289.1094],\n",
      "        [14394.5576],\n",
      "        [21472.4785],\n",
      "        [ 1837.2371],\n",
      "        [14901.5166],\n",
      "        [15817.9854],\n",
      "        [37701.8750],\n",
      "        [12124.9922],\n",
      "        [ 1391.5287],\n",
      "        [ 2585.2690],\n",
      "        [10072.0547],\n",
      "        [ 9144.5654],\n",
      "        [38344.5664]])\n"
     ]
    }
   ],
   "source": [
    "for xb, yb in train_loader:\n",
    "    print(\"inputs:\", xb)\n",
    "    print(\"targets:\", yb)\n",
    "    break"
   ]
  },
  {
   "cell_type": "markdown",
   "metadata": {},
   "source": [
    "Let's save our work by committing to Jovian."
   ]
  },
  {
   "cell_type": "code",
   "execution_count": 61,
   "metadata": {},
   "outputs": [
    {
     "data": {
      "application/javascript": [
       "window.require && require([\"base/js/namespace\"],function(Jupyter){Jupyter.notebook.save_checkpoint()})"
      ],
      "text/plain": [
       "<IPython.core.display.Javascript object>"
      ]
     },
     "metadata": {},
     "output_type": "display_data"
    },
    {
     "name": "stdout",
     "output_type": "stream",
     "text": [
      "[jovian] Updating notebook \"vidushi-omar123/02-insurance-linear-regression\" on https://jovian.com\u001b[0m\n",
      "[jovian] Committed successfully! https://jovian.com/vidushi-omar123/02-insurance-linear-regression\u001b[0m\n"
     ]
    },
    {
     "data": {
      "text/plain": [
       "'https://jovian.com/vidushi-omar123/02-insurance-linear-regression'"
      ]
     },
     "execution_count": 61,
     "metadata": {},
     "output_type": "execute_result"
    }
   ],
   "source": [
    "jovian.commit(project=project_name, environment=None)"
   ]
  },
  {
   "cell_type": "markdown",
   "metadata": {},
   "source": [
    "## Step 3: Create a Linear Regression Model\n",
    "\n",
    "Our model itself is a fairly straightforward linear regression (we'll build more complex models in the next assignment). \n"
   ]
  },
  {
   "cell_type": "code",
   "execution_count": 62,
   "metadata": {},
   "outputs": [],
   "source": [
    "input_size = len(input_cols)\n",
    "output_size = len(output_cols)"
   ]
  },
  {
   "cell_type": "markdown",
   "metadata": {},
   "source": [
    "**Q9: Complete the class definition below by filling out the constructor (`__init__`), `forward`, `training_step` and `validation_step` methods.**\n",
    "\n",
    "Hint: Think carefully about picking a good loss fuction (it's not cross entropy). Maybe try 2-3 of them and see which one works best. See https://pytorch.org/docs/stable/nn.functional.html#loss-functions"
   ]
  },
  {
   "cell_type": "code",
   "execution_count": 63,
   "metadata": {},
   "outputs": [],
   "source": [
    "class InsuranceModel(nn.Module):\n",
    "    def __init__(self):\n",
    "        super().__init__()\n",
    "        self.linear = nn.Linear(input_size,output_size)                  # fill this (hint: use input_size & output_size defined above)\n",
    "        \n",
    "    def forward(self, xb):\n",
    "        out = self.linear(xb)                          # fill this\n",
    "        return out\n",
    "    \n",
    "    def training_step(self, batch):\n",
    "        inputs, targets = batch \n",
    "        # Generate predictions\n",
    "        out = self(inputs)          \n",
    "        # Calcuate loss\n",
    "        loss = F.mse_loss(out,targets)                         # fill this\n",
    "        return loss\n",
    "    \n",
    "    def validation_step(self, batch):\n",
    "        inputs, targets = batch\n",
    "        # Generate predictions\n",
    "        out = self(inputs)\n",
    "        # Calculate loss\n",
    "        loss = F.mse_loss(out,targets)                           # fill this    \n",
    "        return {'val_loss': loss.detach()}\n",
    "        \n",
    "    def validation_epoch_end(self, outputs):\n",
    "        batch_losses = [x['val_loss'] for x in outputs]\n",
    "        epoch_loss = torch.stack(batch_losses).mean()   # Combine losses\n",
    "        return {'val_loss': epoch_loss.item()}\n",
    "    \n",
    "    def epoch_end(self, epoch, result, num_epochs):\n",
    "        # Print result every 20th epoch\n",
    "        if (epoch+1) % 20 == 0 or epoch == num_epochs-1:\n",
    "            print(\"Epoch [{}], val_loss: {:.4f}\".format(epoch+1, result['val_loss']))"
   ]
  },
  {
   "cell_type": "markdown",
   "metadata": {},
   "source": [
    "Let us create a model using the `InsuranceModel` class. You may need to come back later and re-run the next cell to reinitialize the model, in case the loss becomes `nan` or `infinity`."
   ]
  },
  {
   "cell_type": "code",
   "execution_count": 64,
   "metadata": {},
   "outputs": [],
   "source": [
    "model = InsuranceModel()"
   ]
  },
  {
   "cell_type": "markdown",
   "metadata": {},
   "source": [
    "Let's check out the weights and biases of the model using `model.parameters`."
   ]
  },
  {
   "cell_type": "code",
   "execution_count": 65,
   "metadata": {},
   "outputs": [
    {
     "data": {
      "text/plain": [
       "[Parameter containing:\n",
       " tensor([[ 0.2891,  0.2858,  0.2428, -0.0413, -0.4270]], requires_grad=True),\n",
       " Parameter containing:\n",
       " tensor([-0.2105], requires_grad=True)]"
      ]
     },
     "execution_count": 65,
     "metadata": {},
     "output_type": "execute_result"
    }
   ],
   "source": [
    "list(model.parameters())"
   ]
  },
  {
   "cell_type": "markdown",
   "metadata": {},
   "source": [
    "One final commit before we train the model."
   ]
  },
  {
   "cell_type": "code",
   "execution_count": 66,
   "metadata": {},
   "outputs": [
    {
     "data": {
      "application/javascript": [
       "window.require && require([\"base/js/namespace\"],function(Jupyter){Jupyter.notebook.save_checkpoint()})"
      ],
      "text/plain": [
       "<IPython.core.display.Javascript object>"
      ]
     },
     "metadata": {},
     "output_type": "display_data"
    },
    {
     "name": "stdout",
     "output_type": "stream",
     "text": [
      "[jovian] Updating notebook \"vidushi-omar123/02-insurance-linear-regression\" on https://jovian.com\u001b[0m\n",
      "[jovian] Committed successfully! https://jovian.com/vidushi-omar123/02-insurance-linear-regression\u001b[0m\n"
     ]
    },
    {
     "data": {
      "text/plain": [
       "'https://jovian.com/vidushi-omar123/02-insurance-linear-regression'"
      ]
     },
     "execution_count": 66,
     "metadata": {},
     "output_type": "execute_result"
    }
   ],
   "source": [
    "jovian.commit(project=project_name, environment=None)"
   ]
  },
  {
   "cell_type": "markdown",
   "metadata": {},
   "source": [
    "## Step 4: Train the model to fit the data\n",
    "\n",
    "To train our model, we'll use the same `fit` function explained in the lecture. That's the benefit of defining a generic training loop - you can use it for any problem."
   ]
  },
  {
   "cell_type": "code",
   "execution_count": 67,
   "metadata": {},
   "outputs": [],
   "source": [
    "def evaluate(model, val_loader):\n",
    "    outputs = [model.validation_step(batch) for batch in val_loader]\n",
    "    return model.validation_epoch_end(outputs)\n",
    "\n",
    "def fit(epochs, lr, model, train_loader, val_loader, opt_func=torch.optim.SGD):\n",
    "    history = []\n",
    "    optimizer = opt_func(model.parameters(), lr)\n",
    "    for epoch in range(epochs):\n",
    "       # Training Phase \n",
    "        for batch in train_loader:\n",
    "            loss = model.training_step(batch)\n",
    "            loss.backward()\n",
    "            optimizer.step()\n",
    "            optimizer.zero_grad()\n",
    "        # Validation phase\n",
    "        result = evaluate(model, val_loader)\n",
    "        model.epoch_end(epoch, result, epochs)\n",
    "        history.append(result)\n",
    "    return history"
   ]
  },
  {
   "cell_type": "markdown",
   "metadata": {},
   "source": [
    "**Q10: Use the `evaluate` function to calculate the loss on the validation set before training.**"
   ]
  },
  {
   "cell_type": "code",
   "execution_count": 68,
   "metadata": {},
   "outputs": [
    {
     "name": "stdout",
     "output_type": "stream",
     "text": [
      "{'val_loss': 341789184.0}\n"
     ]
    }
   ],
   "source": [
    "result=evaluate(model,val_loader) # Use the the evaluate function\n",
    "print(result)"
   ]
  },
  {
   "cell_type": "markdown",
   "metadata": {},
   "source": [
    "\n",
    "We are now ready to train the model. You may need to run the training loop many times, for different number of epochs and with different learning rates, to get a good result. Also, if your loss becomes too large (or `nan`), you may have to re-initialize the model by running the cell `model = InsuranceModel()`. Experiment with this for a while, and try to get to as low a loss as possible."
   ]
  },
  {
   "cell_type": "markdown",
   "metadata": {},
   "source": [
    "**Q11: Train the model 4-5 times with different learning rates & for different number of epochs.**\n",
    "\n",
    "Hint: Vary learning rates by orders of 10 (e.g. `1e-2`, `1e-3`, `1e-4`, `1e-5`, `1e-6`) to figure out what works."
   ]
  },
  {
   "cell_type": "code",
   "execution_count": 72,
   "metadata": {},
   "outputs": [
    {
     "name": "stdout",
     "output_type": "stream",
     "text": [
      "Epoch [20], val_loss: 82892992.0000\n",
      "Epoch [40], val_loss: 82923504.0000\n",
      "Epoch [60], val_loss: 82930416.0000\n",
      "Epoch [80], val_loss: 82929464.0000\n",
      "Epoch [100], val_loss: 82924424.0000\n",
      "Epoch [120], val_loss: 82918336.0000\n",
      "Epoch [140], val_loss: 82911552.0000\n",
      "Epoch [160], val_loss: 82907192.0000\n",
      "Epoch [180], val_loss: 82902296.0000\n",
      "Epoch [200], val_loss: 82894200.0000\n",
      "Epoch [220], val_loss: 82889632.0000\n",
      "Epoch [240], val_loss: 82883208.0000\n",
      "Epoch [260], val_loss: 82878808.0000\n",
      "Epoch [280], val_loss: 82872288.0000\n",
      "Epoch [300], val_loss: 82865304.0000\n",
      "Epoch [320], val_loss: 82859976.0000\n",
      "Epoch [340], val_loss: 82855512.0000\n",
      "Epoch [360], val_loss: 82847464.0000\n",
      "Epoch [380], val_loss: 82842552.0000\n",
      "Epoch [400], val_loss: 82835824.0000\n",
      "Epoch [420], val_loss: 82829968.0000\n",
      "Epoch [440], val_loss: 82824376.0000\n",
      "Epoch [460], val_loss: 82817432.0000\n",
      "Epoch [480], val_loss: 82811936.0000\n",
      "Epoch [500], val_loss: 82807128.0000\n",
      "Epoch [520], val_loss: 82799784.0000\n",
      "Epoch [540], val_loss: 82794224.0000\n",
      "Epoch [560], val_loss: 82787688.0000\n",
      "Epoch [580], val_loss: 82780960.0000\n",
      "Epoch [600], val_loss: 82776832.0000\n",
      "Epoch [620], val_loss: 82769392.0000\n",
      "Epoch [640], val_loss: 82763176.0000\n",
      "Epoch [660], val_loss: 82759080.0000\n",
      "Epoch [680], val_loss: 82753024.0000\n",
      "Epoch [700], val_loss: 82746032.0000\n",
      "Epoch [720], val_loss: 82739008.0000\n",
      "Epoch [740], val_loss: 82736816.0000\n",
      "Epoch [760], val_loss: 82729608.0000\n",
      "Epoch [780], val_loss: 82723392.0000\n",
      "Epoch [800], val_loss: 82715464.0000\n",
      "Epoch [820], val_loss: 82710000.0000\n",
      "Epoch [840], val_loss: 82705496.0000\n",
      "Epoch [860], val_loss: 82701960.0000\n",
      "Epoch [880], val_loss: 82696592.0000\n",
      "Epoch [900], val_loss: 82688576.0000\n",
      "Epoch [920], val_loss: 82680776.0000\n",
      "Epoch [940], val_loss: 82675808.0000\n",
      "Epoch [960], val_loss: 82668736.0000\n",
      "Epoch [980], val_loss: 82661584.0000\n",
      "Epoch [1000], val_loss: 82656640.0000\n"
     ]
    }
   ],
   "source": [
    "epochs = 1000\n",
    "lr =1e-6\n",
    "history1 = fit(epochs, lr, model, train_loader, val_loader)"
   ]
  },
  {
   "cell_type": "code",
   "execution_count": 73,
   "metadata": {},
   "outputs": [
    {
     "name": "stdout",
     "output_type": "stream",
     "text": [
      "Epoch [20], val_loss: 82630064.0000\n",
      "Epoch [40], val_loss: 82594264.0000\n",
      "Epoch [60], val_loss: 82524328.0000\n",
      "Epoch [80], val_loss: 82443072.0000\n",
      "Epoch [100], val_loss: 82311232.0000\n",
      "Epoch [120], val_loss: 82341800.0000\n",
      "Epoch [140], val_loss: 82244112.0000\n",
      "Epoch [160], val_loss: 82221088.0000\n",
      "Epoch [180], val_loss: 82104280.0000\n",
      "Epoch [200], val_loss: 82055168.0000\n",
      "Epoch [220], val_loss: 82016336.0000\n",
      "Epoch [240], val_loss: 81926008.0000\n",
      "Epoch [260], val_loss: 81880232.0000\n",
      "Epoch [280], val_loss: 81802640.0000\n",
      "Epoch [300], val_loss: 81812320.0000\n",
      "Epoch [320], val_loss: 81702256.0000\n",
      "Epoch [340], val_loss: 81628864.0000\n",
      "Epoch [360], val_loss: 81544904.0000\n",
      "Epoch [380], val_loss: 81521640.0000\n",
      "Epoch [400], val_loss: 81496376.0000\n",
      "Epoch [420], val_loss: 81406912.0000\n",
      "Epoch [440], val_loss: 81347432.0000\n",
      "Epoch [460], val_loss: 81336544.0000\n",
      "Epoch [480], val_loss: 81228176.0000\n",
      "Epoch [500], val_loss: 81149880.0000\n",
      "Epoch [520], val_loss: 81134544.0000\n",
      "Epoch [540], val_loss: 81059904.0000\n",
      "Epoch [560], val_loss: 80987056.0000\n",
      "Epoch [580], val_loss: 80937456.0000\n",
      "Epoch [600], val_loss: 80914080.0000\n",
      "Epoch [620], val_loss: 80813616.0000\n",
      "Epoch [640], val_loss: 80732680.0000\n",
      "Epoch [660], val_loss: 80765120.0000\n",
      "Epoch [680], val_loss: 80660088.0000\n",
      "Epoch [700], val_loss: 80597360.0000\n",
      "Epoch [720], val_loss: 80537568.0000\n",
      "Epoch [740], val_loss: 80437808.0000\n",
      "Epoch [760], val_loss: 80445176.0000\n",
      "Epoch [780], val_loss: 80351592.0000\n",
      "Epoch [800], val_loss: 80274256.0000\n",
      "Epoch [820], val_loss: 80270024.0000\n",
      "Epoch [840], val_loss: 80200968.0000\n",
      "Epoch [860], val_loss: 80187440.0000\n",
      "Epoch [880], val_loss: 80080368.0000\n",
      "Epoch [900], val_loss: 79990576.0000\n",
      "Epoch [920], val_loss: 79954840.0000\n",
      "Epoch [940], val_loss: 79916328.0000\n",
      "Epoch [960], val_loss: 79858976.0000\n",
      "Epoch [980], val_loss: 79815824.0000\n",
      "Epoch [1000], val_loss: 79749568.0000\n"
     ]
    }
   ],
   "source": [
    "epochs = 1000\n",
    "lr = 1e-5\n",
    "history2 = fit(epochs, lr, model, train_loader, val_loader)"
   ]
  },
  {
   "cell_type": "code",
   "execution_count": 74,
   "metadata": {},
   "outputs": [
    {
     "name": "stdout",
     "output_type": "stream",
     "text": [
      "Epoch [20], val_loss: 79645008.0000\n",
      "Epoch [40], val_loss: 79628720.0000\n",
      "Epoch [60], val_loss: 79629648.0000\n",
      "Epoch [80], val_loss: 79517384.0000\n",
      "Epoch [100], val_loss: 79468448.0000\n",
      "Epoch [120], val_loss: 79391360.0000\n",
      "Epoch [140], val_loss: 79372784.0000\n",
      "Epoch [160], val_loss: 79287552.0000\n",
      "Epoch [180], val_loss: 79213848.0000\n",
      "Epoch [200], val_loss: 79156040.0000\n",
      "Epoch [220], val_loss: 79143600.0000\n",
      "Epoch [240], val_loss: 79082352.0000\n",
      "Epoch [260], val_loss: 79024944.0000\n",
      "Epoch [280], val_loss: 78963832.0000\n",
      "Epoch [300], val_loss: 78896688.0000\n",
      "Epoch [320], val_loss: 78851616.0000\n",
      "Epoch [340], val_loss: 78794400.0000\n",
      "Epoch [360], val_loss: 78790264.0000\n",
      "Epoch [380], val_loss: 78673448.0000\n",
      "Epoch [400], val_loss: 78595648.0000\n",
      "Epoch [420], val_loss: 78564112.0000\n",
      "Epoch [440], val_loss: 78500504.0000\n",
      "Epoch [460], val_loss: 78462520.0000\n",
      "Epoch [480], val_loss: 78405568.0000\n",
      "Epoch [500], val_loss: 78360576.0000\n",
      "Epoch [520], val_loss: 78289656.0000\n",
      "Epoch [540], val_loss: 78260928.0000\n",
      "Epoch [560], val_loss: 78189928.0000\n",
      "Epoch [580], val_loss: 78094080.0000\n",
      "Epoch [600], val_loss: 78123784.0000\n",
      "Epoch [620], val_loss: 78014752.0000\n",
      "Epoch [640], val_loss: 77999360.0000\n",
      "Epoch [660], val_loss: 77934456.0000\n",
      "Epoch [680], val_loss: 77819552.0000\n",
      "Epoch [700], val_loss: 77818016.0000\n",
      "Epoch [720], val_loss: 77763624.0000\n",
      "Epoch [740], val_loss: 77723744.0000\n",
      "Epoch [760], val_loss: 77673240.0000\n",
      "Epoch [780], val_loss: 77574472.0000\n",
      "Epoch [800], val_loss: 77547848.0000\n",
      "Epoch [820], val_loss: 77509552.0000\n",
      "Epoch [840], val_loss: 77475944.0000\n",
      "Epoch [860], val_loss: 77401120.0000\n",
      "Epoch [880], val_loss: 77289024.0000\n",
      "Epoch [900], val_loss: 77280656.0000\n",
      "Epoch [920], val_loss: 77252064.0000\n",
      "Epoch [940], val_loss: 77180824.0000\n",
      "Epoch [960], val_loss: 77134208.0000\n",
      "Epoch [980], val_loss: 77054920.0000\n",
      "Epoch [1000], val_loss: 77015352.0000\n",
      "Epoch [1020], val_loss: 76992368.0000\n",
      "Epoch [1040], val_loss: 76935568.0000\n",
      "Epoch [1060], val_loss: 76916344.0000\n",
      "Epoch [1080], val_loss: 76814960.0000\n",
      "Epoch [1100], val_loss: 76749488.0000\n",
      "Epoch [1120], val_loss: 76710088.0000\n",
      "Epoch [1140], val_loss: 76690880.0000\n",
      "Epoch [1160], val_loss: 76651144.0000\n",
      "Epoch [1180], val_loss: 76528808.0000\n",
      "Epoch [1200], val_loss: 76491328.0000\n",
      "Epoch [1220], val_loss: 76460824.0000\n",
      "Epoch [1240], val_loss: 76400768.0000\n",
      "Epoch [1260], val_loss: 76306096.0000\n",
      "Epoch [1280], val_loss: 76285344.0000\n",
      "Epoch [1300], val_loss: 76252696.0000\n",
      "Epoch [1320], val_loss: 76216512.0000\n",
      "Epoch [1340], val_loss: 76123600.0000\n",
      "Epoch [1360], val_loss: 76162552.0000\n",
      "Epoch [1380], val_loss: 76043904.0000\n",
      "Epoch [1400], val_loss: 76000112.0000\n",
      "Epoch [1420], val_loss: 75915680.0000\n",
      "Epoch [1440], val_loss: 75883616.0000\n",
      "Epoch [1460], val_loss: 75858696.0000\n",
      "Epoch [1480], val_loss: 75776272.0000\n",
      "Epoch [1500], val_loss: 75778752.0000\n",
      "Epoch [1520], val_loss: 75712224.0000\n",
      "Epoch [1540], val_loss: 75661744.0000\n",
      "Epoch [1560], val_loss: 75594464.0000\n",
      "Epoch [1580], val_loss: 75546416.0000\n",
      "Epoch [1600], val_loss: 75489200.0000\n",
      "Epoch [1620], val_loss: 75428016.0000\n",
      "Epoch [1640], val_loss: 75394920.0000\n",
      "Epoch [1660], val_loss: 75351416.0000\n",
      "Epoch [1680], val_loss: 75214784.0000\n",
      "Epoch [1700], val_loss: 75248368.0000\n",
      "Epoch [1720], val_loss: 75210224.0000\n",
      "Epoch [1740], val_loss: 75191816.0000\n",
      "Epoch [1760], val_loss: 75056200.0000\n",
      "Epoch [1780], val_loss: 75048112.0000\n",
      "Epoch [1800], val_loss: 75044016.0000\n",
      "Epoch [1820], val_loss: 74954832.0000\n",
      "Epoch [1840], val_loss: 74921496.0000\n",
      "Epoch [1860], val_loss: 74841504.0000\n",
      "Epoch [1880], val_loss: 74799640.0000\n",
      "Epoch [1900], val_loss: 74759992.0000\n",
      "Epoch [1920], val_loss: 74755656.0000\n",
      "Epoch [1940], val_loss: 74626432.0000\n",
      "Epoch [1960], val_loss: 74564736.0000\n",
      "Epoch [1980], val_loss: 74574560.0000\n",
      "Epoch [2000], val_loss: 74520992.0000\n"
     ]
    }
   ],
   "source": [
    "epochs = 2000\n",
    "lr = 1e-5\n",
    "history3 = fit(epochs, lr, model, train_loader, val_loader)"
   ]
  },
  {
   "cell_type": "code",
   "execution_count": 75,
   "metadata": {},
   "outputs": [
    {
     "name": "stdout",
     "output_type": "stream",
     "text": [
      "Epoch [20], val_loss: 74228728.0000\n",
      "Epoch [40], val_loss: 73489544.0000\n",
      "Epoch [60], val_loss: 73769512.0000\n",
      "Epoch [80], val_loss: 72443488.0000\n",
      "Epoch [100], val_loss: 72582608.0000\n",
      "Epoch [120], val_loss: 71551688.0000\n",
      "Epoch [140], val_loss: 71272256.0000\n",
      "Epoch [160], val_loss: 70659936.0000\n",
      "Epoch [180], val_loss: 70232096.0000\n",
      "Epoch [200], val_loss: 71432136.0000\n",
      "Epoch [220], val_loss: 69948992.0000\n",
      "Epoch [240], val_loss: 68966984.0000\n",
      "Epoch [260], val_loss: 68717648.0000\n",
      "Epoch [280], val_loss: 68641176.0000\n",
      "Epoch [300], val_loss: 67981184.0000\n",
      "Epoch [320], val_loss: 67709040.0000\n",
      "Epoch [340], val_loss: 67021288.0000\n",
      "Epoch [360], val_loss: 66676624.0000\n",
      "Epoch [380], val_loss: 66299560.0000\n",
      "Epoch [400], val_loss: 66137940.0000\n",
      "Epoch [420], val_loss: 65566152.0000\n",
      "Epoch [440], val_loss: 65228456.0000\n",
      "Epoch [460], val_loss: 65679544.0000\n",
      "Epoch [480], val_loss: 66605952.0000\n",
      "Epoch [500], val_loss: 64130136.0000\n",
      "Epoch [520], val_loss: 64034944.0000\n",
      "Epoch [540], val_loss: 63874216.0000\n",
      "Epoch [560], val_loss: 63398736.0000\n",
      "Epoch [580], val_loss: 63381280.0000\n",
      "Epoch [600], val_loss: 62864864.0000\n",
      "Epoch [620], val_loss: 62341292.0000\n",
      "Epoch [640], val_loss: 62467520.0000\n",
      "Epoch [660], val_loss: 61586676.0000\n",
      "Epoch [680], val_loss: 62774552.0000\n",
      "Epoch [700], val_loss: 61025232.0000\n",
      "Epoch [720], val_loss: 60659544.0000\n",
      "Epoch [740], val_loss: 60443952.0000\n",
      "Epoch [760], val_loss: 60252540.0000\n",
      "Epoch [780], val_loss: 60951448.0000\n",
      "Epoch [800], val_loss: 59620428.0000\n",
      "Epoch [820], val_loss: 59559520.0000\n",
      "Epoch [840], val_loss: 59003592.0000\n",
      "Epoch [860], val_loss: 59220988.0000\n",
      "Epoch [880], val_loss: 58555048.0000\n",
      "Epoch [900], val_loss: 59196988.0000\n",
      "Epoch [920], val_loss: 59018912.0000\n",
      "Epoch [940], val_loss: 58097072.0000\n",
      "Epoch [960], val_loss: 57473844.0000\n",
      "Epoch [980], val_loss: 57227948.0000\n",
      "Epoch [1000], val_loss: 57281844.0000\n",
      "Epoch [1020], val_loss: 56774152.0000\n",
      "Epoch [1040], val_loss: 56500320.0000\n",
      "Epoch [1060], val_loss: 56480520.0000\n",
      "Epoch [1080], val_loss: 56050336.0000\n",
      "Epoch [1100], val_loss: 56231116.0000\n",
      "Epoch [1120], val_loss: 56316684.0000\n",
      "Epoch [1140], val_loss: 55425404.0000\n",
      "Epoch [1160], val_loss: 55345292.0000\n",
      "Epoch [1180], val_loss: 55244624.0000\n",
      "Epoch [1200], val_loss: 54898144.0000\n",
      "Epoch [1220], val_loss: 54794320.0000\n",
      "Epoch [1240], val_loss: 54485672.0000\n",
      "Epoch [1260], val_loss: 54987528.0000\n",
      "Epoch [1280], val_loss: 54000856.0000\n",
      "Epoch [1300], val_loss: 54158484.0000\n",
      "Epoch [1320], val_loss: 53705696.0000\n",
      "Epoch [1340], val_loss: 53391144.0000\n",
      "Epoch [1360], val_loss: 53759432.0000\n",
      "Epoch [1380], val_loss: 53667292.0000\n",
      "Epoch [1400], val_loss: 52830640.0000\n",
      "Epoch [1420], val_loss: 52686220.0000\n",
      "Epoch [1440], val_loss: 52486456.0000\n",
      "Epoch [1460], val_loss: 52458068.0000\n",
      "Epoch [1480], val_loss: 52146848.0000\n",
      "Epoch [1500], val_loss: 52249548.0000\n",
      "Epoch [1520], val_loss: 51926696.0000\n",
      "Epoch [1540], val_loss: 52405776.0000\n",
      "Epoch [1560], val_loss: 51478224.0000\n",
      "Epoch [1580], val_loss: 51403048.0000\n",
      "Epoch [1600], val_loss: 51438148.0000\n",
      "Epoch [1620], val_loss: 51337668.0000\n",
      "Epoch [1640], val_loss: 51397448.0000\n",
      "Epoch [1660], val_loss: 51039344.0000\n",
      "Epoch [1680], val_loss: 50661728.0000\n",
      "Epoch [1700], val_loss: 50569400.0000\n",
      "Epoch [1720], val_loss: 50297056.0000\n",
      "Epoch [1740], val_loss: 50122328.0000\n",
      "Epoch [1760], val_loss: 50208520.0000\n",
      "Epoch [1780], val_loss: 50396424.0000\n",
      "Epoch [1800], val_loss: 49712176.0000\n",
      "Epoch [1820], val_loss: 49596752.0000\n",
      "Epoch [1840], val_loss: 49769160.0000\n",
      "Epoch [1860], val_loss: 49360584.0000\n",
      "Epoch [1880], val_loss: 50902152.0000\n",
      "Epoch [1900], val_loss: 49202320.0000\n",
      "Epoch [1920], val_loss: 49158616.0000\n",
      "Epoch [1940], val_loss: 48867616.0000\n",
      "Epoch [1960], val_loss: 48695088.0000\n",
      "Epoch [1980], val_loss: 48592548.0000\n",
      "Epoch [2000], val_loss: 48625648.0000\n"
     ]
    }
   ],
   "source": [
    "epochs = 2000\n",
    "lr =1e-4\n",
    "history4 = fit(epochs, lr, model, train_loader, val_loader)"
   ]
  },
  {
   "cell_type": "markdown",
   "metadata": {},
   "source": [
    "**Q12: What is the final validation loss of your model?**"
   ]
  },
  {
   "cell_type": "code",
   "execution_count": 84,
   "metadata": {},
   "outputs": [
    {
     "data": {
      "text/plain": [
       "{'val_loss': 48625648.0}"
      ]
     },
     "execution_count": 84,
     "metadata": {},
     "output_type": "execute_result"
    }
   ],
   "source": [
    "val_loss = history4[-1]\n",
    "val_loss"
   ]
  },
  {
   "cell_type": "markdown",
   "metadata": {},
   "source": [
    "Let's log the final validation loss to Jovian and commit the notebook"
   ]
  },
  {
   "cell_type": "code",
   "execution_count": 85,
   "metadata": {},
   "outputs": [
    {
     "name": "stdout",
     "output_type": "stream",
     "text": [
      "[jovian] Metrics logged.\u001b[0m\n"
     ]
    }
   ],
   "source": [
    "jovian.log_metrics(val_loss=val_loss)"
   ]
  },
  {
   "cell_type": "code",
   "execution_count": 86,
   "metadata": {},
   "outputs": [
    {
     "data": {
      "application/javascript": [
       "window.require && require([\"base/js/namespace\"],function(Jupyter){Jupyter.notebook.save_checkpoint()})"
      ],
      "text/plain": [
       "<IPython.core.display.Javascript object>"
      ]
     },
     "metadata": {},
     "output_type": "display_data"
    },
    {
     "name": "stdout",
     "output_type": "stream",
     "text": [
      "[jovian] Updating notebook \"vidushi-omar123/02-insurance-linear-regression\" on https://jovian.com\u001b[0m\n",
      "[jovian] Attaching records (metrics, hyperparameters, dataset etc.)\u001b[0m\n",
      "[jovian] Committed successfully! https://jovian.com/vidushi-omar123/02-insurance-linear-regression\u001b[0m\n"
     ]
    },
    {
     "data": {
      "text/plain": [
       "'https://jovian.com/vidushi-omar123/02-insurance-linear-regression'"
      ]
     },
     "execution_count": 86,
     "metadata": {},
     "output_type": "execute_result"
    }
   ],
   "source": [
    "jovian.commit(project=project_name, environment=None)"
   ]
  },
  {
   "cell_type": "markdown",
   "metadata": {},
   "source": [
    "Now scroll back up, re-initialize the model, and try different set of values for batch size, number of epochs, learning rate etc. Commit each experiment and use the \"Compare\" and \"View Diff\" options on Jovian to compare the different results."
   ]
  },
  {
   "cell_type": "markdown",
   "metadata": {},
   "source": [
    "## Step 5: Make predictions using the trained model\n",
    "\n",
    "**Q13: Complete the following function definition to make predictions on a single input**"
   ]
  },
  {
   "cell_type": "code",
   "execution_count": 87,
   "metadata": {},
   "outputs": [],
   "source": [
    "def predict_single(input, target, model):\n",
    "    inputs = input.unsqueeze(0)\n",
    "    predictions = model(inputs)              # fill this\n",
    "    prediction = predictions[0].detach()\n",
    "    print(\"Input:\", input)\n",
    "    print(\"Target:\", target)\n",
    "    print(\"Prediction:\", prediction)"
   ]
  },
  {
   "cell_type": "code",
   "execution_count": 88,
   "metadata": {},
   "outputs": [
    {
     "name": "stdout",
     "output_type": "stream",
     "text": [
      "Input: tensor([41.0000,  0.0000, 33.2168,  1.0000,  0.0000])\n",
      "Target: tensor([7358.1758])\n",
      "Prediction: tensor([nan])\n"
     ]
    }
   ],
   "source": [
    "input, target = val_ds[0]\n",
    "predict_single(input, target, model)"
   ]
  },
  {
   "cell_type": "code",
   "execution_count": 89,
   "metadata": {},
   "outputs": [
    {
     "name": "stdout",
     "output_type": "stream",
     "text": [
      "Input: tensor([49.0000,  1.0000, 27.1320,  2.0000,  1.0000])\n",
      "Target: tensor([23807.2402])\n",
      "Prediction: tensor([nan])\n"
     ]
    }
   ],
   "source": [
    "input, target = val_ds[10]\n",
    "predict_single(input, target, model)"
   ]
  },
  {
   "cell_type": "code",
   "execution_count": 90,
   "metadata": {},
   "outputs": [
    {
     "name": "stdout",
     "output_type": "stream",
     "text": [
      "Input: tensor([55.0000,  0.0000, 28.3290,  0.0000,  0.0000])\n",
      "Target: tensor([11082.5771])\n",
      "Prediction: tensor([nan])\n"
     ]
    }
   ],
   "source": [
    "input, target = val_ds[23]\n",
    "predict_single(input, target, model)"
   ]
  },
  {
   "cell_type": "markdown",
   "metadata": {},
   "source": [
    "Are you happy with your model's predictions? Try to improve them further."
   ]
  },
  {
   "cell_type": "markdown",
   "metadata": {},
   "source": [
    "## (Optional) Step 6: Try another dataset & blog about it\n",
    "\n",
    "While this last step is optional for the submission of your assignment, we highly recommend that you do it. Try to replicate this notebook for a different linear regression or logistic regression problem. This will help solidify your understanding, and give you a chance to differentiate the generic patterns in machine learning from problem-specific details.You can use one of these starer notebooks (just change the dataset):\n",
    "\n",
    "- Linear regression (minimal): https://jovian.ai/aakashns/housing-linear-minimal\n",
    "- Logistic regression (minimal): https://jovian.ai/aakashns/mnist-logistic-minimal\n",
    "\n",
    "Here are some sources to find good datasets:\n",
    "\n",
    "- https://lionbridge.ai/datasets/10-open-datasets-for-linear-regression/\n",
    "- https://www.kaggle.com/rtatman/datasets-for-regression-analysis\n",
    "- https://archive.ics.uci.edu/ml/datasets.php?format=&task=reg&att=&area=&numAtt=&numIns=&type=&sort=nameUp&view=table\n",
    "- https://people.sc.fsu.edu/~jburkardt/datasets/regression/regression.html\n",
    "- https://archive.ics.uci.edu/ml/datasets/wine+quality\n",
    "- https://pytorch.org/docs/stable/torchvision/datasets.html\n",
    "\n",
    "We also recommend that you write a blog about your approach to the problem. Here is a suggested structure for your post (feel free to experiment with it):\n",
    "\n",
    "- Interesting title & subtitle\n",
    "- Overview of what the blog covers (which dataset, linear regression or logistic regression, intro to PyTorch)\n",
    "- Downloading & exploring the data\n",
    "- Preparing the data for training\n",
    "- Creating a model using PyTorch\n",
    "- Training the model to fit the data\n",
    "- Your thoughts on how to experiment with different hyperparmeters to reduce loss\n",
    "- Making predictions using the model\n",
    "\n",
    "As with the previous assignment, you can [embed Juptyer notebook cells & outputs from Jovian](https://medium.com/jovianml/share-and-embed-jupyter-notebooks-online-with-jovian-ml-df709a03064e) into your blog. \n",
    "\n",
    "Don't forget to share your work on the forum: https://jovian.ai/forum/t/linear-regression-and-logistic-regression-notebooks-and-blog-posts/14039"
   ]
  },
  {
   "cell_type": "code",
   "execution_count": 91,
   "metadata": {},
   "outputs": [
    {
     "data": {
      "application/javascript": [
       "window.require && require([\"base/js/namespace\"],function(Jupyter){Jupyter.notebook.save_checkpoint()})"
      ],
      "text/plain": [
       "<IPython.core.display.Javascript object>"
      ]
     },
     "metadata": {},
     "output_type": "display_data"
    },
    {
     "name": "stdout",
     "output_type": "stream",
     "text": [
      "[jovian] Updating notebook \"vidushi-omar123/02-insurance-linear-regression\" on https://jovian.com\u001b[0m\n",
      "[jovian] Attaching records (metrics, hyperparameters, dataset etc.)\u001b[0m\n",
      "[jovian] Committed successfully! https://jovian.com/vidushi-omar123/02-insurance-linear-regression\u001b[0m\n"
     ]
    },
    {
     "data": {
      "application/javascript": [
       "window.require && require([\"base/js/namespace\"],function(Jupyter){Jupyter.notebook.save_checkpoint()})"
      ],
      "text/plain": [
       "<IPython.core.display.Javascript object>"
      ]
     },
     "metadata": {},
     "output_type": "display_data"
    },
    {
     "name": "stdout",
     "output_type": "stream",
     "text": [
      "[jovian] Updating notebook \"vidushi-omar123/02-insurance-linear-regression\" on https://jovian.com\u001b[0m\n",
      "[jovian] Attaching records (metrics, hyperparameters, dataset etc.)\u001b[0m\n",
      "[jovian] Committed successfully! https://jovian.com/vidushi-omar123/02-insurance-linear-regression\u001b[0m\n"
     ]
    },
    {
     "data": {
      "text/plain": [
       "'https://jovian.com/vidushi-omar123/02-insurance-linear-regression'"
      ]
     },
     "execution_count": 91,
     "metadata": {},
     "output_type": "execute_result"
    }
   ],
   "source": [
    "jovian.commit(project=project_name, environment=None)\n",
    "jovian.commit(project=project_name, environment=None) # try again, kaggle fails sometimes"
   ]
  },
  {
   "cell_type": "code",
   "execution_count": null,
   "metadata": {},
   "outputs": [],
   "source": []
  }
 ],
 "metadata": {
  "kernelspec": {
   "display_name": "Python 3 (ipykernel)",
   "language": "python",
   "name": "python3"
  },
  "language_info": {
   "codemirror_mode": {
    "name": "ipython",
    "version": 3
   },
   "file_extension": ".py",
   "mimetype": "text/x-python",
   "name": "python",
   "nbconvert_exporter": "python",
   "pygments_lexer": "ipython3",
   "version": "3.9.7"
  }
 },
 "nbformat": 4,
 "nbformat_minor": 4
}
